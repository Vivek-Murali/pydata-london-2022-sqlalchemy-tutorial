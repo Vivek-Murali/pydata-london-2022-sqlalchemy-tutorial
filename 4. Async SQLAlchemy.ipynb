{
 "cells": [
  {
   "cell_type": "markdown",
   "id": "820edb81-d026-4fb7-b549-1d5ba72ca008",
   "metadata": {},
   "source": [
    "# Async SQLAlchemy\n",
    "\n",
    "As part of the 1.4/2.0 SQAlchemy release, SQLAlchemy now supports async operations.\n",
    "\n",
    "Async SQLAlchemy isn't a performance panacea - both SQLAlchemy and your database are built to handle out-of-the-box queries very well, but it does help with the [function colour](https://journal.stuffwithstuff.com/2015/02/01/what-color-is-your-function/) problem of having to divide your world into async and non-async functions.\n",
    "\n",
    "## Async SQLAlchemy Core\n",
    "\n",
    "Let's start with revisiting our Core layer"
   ]
  },
  {
   "cell_type": "code",
   "execution_count": 5,
   "id": "06d3d950-a7ce-4a63-8341-e4dc91405b03",
   "metadata": {},
   "outputs": [],
   "source": [
    "from sqlalchemy.ext.asyncio import create_async_engine\n",
    "import sqlalchemy as sa\n",
    "import aiosqlite"
   ]
  },
  {
   "cell_type": "markdown",
   "id": "a3e8dc9f-bafc-4d5e-b9f0-2284d2c61c07",
   "metadata": {},
   "source": [
    "Our engine is now an AsyncEngine, but the table definition stays the same. Note that we do need to have an async-compatible db driver installed to be able to use async. In this case, we're using aiosqlite instead of the built-in sqlite library"
   ]
  },
  {
   "cell_type": "code",
   "execution_count": 4,
   "id": "131524c3-211c-4527-98ca-30e8f82cfebb",
   "metadata": {},
   "outputs": [],
   "source": [
    "engine = create_async_engine(\"sqlite+aiosqlite:///async_local.db\", future=True)"
   ]
  },
  {
   "cell_type": "code",
   "execution_count": 6,
   "id": "807a975e-d983-4860-8411-9ce80df73426",
   "metadata": {},
   "outputs": [],
   "source": [
    "meta = sa.MetaData()\n",
    "table = sa.Table(\"cars\", meta, \n",
    "                sa.Column(\"car_id\", sa.Integer, primary_key=True),\n",
    "                 sa.Column(\"make\", sa.String),\n",
    "                 sa.Column(\"year\", sa.Integer),\n",
    "                 sa.Column(\"mileage\", sa.Integer)\n",
    "                )"
   ]
  },
  {
   "cell_type": "markdown",
   "id": "0862863c-09ad-48d3-883e-63d9fc8f6c43",
   "metadata": {},
   "source": [
    "DDL has to be run synchronously when inside the async conneciton, so every `conn` has a `run_sync` method"
   ]
  },
  {
   "cell_type": "code",
   "execution_count": 7,
   "id": "90f60925-b8fa-4380-bb02-61f3925c3b64",
   "metadata": {},
   "outputs": [],
   "source": [
    "async with engine.begin() as conn:\n",
    "    await conn.run_sync(meta.create_all)"
   ]
  },
  {
   "cell_type": "markdown",
   "id": "5d1d3ffc-a526-44c9-b148-485b5c43557b",
   "metadata": {},
   "source": [
    "Jupyter natively support async (so we don't have to use `asyncio.run` to run our async functions on the event loop"
   ]
  },
  {
   "cell_type": "code",
   "execution_count": 8,
   "id": "ac685663-36a9-4848-86bc-2b9b812721ab",
   "metadata": {},
   "outputs": [],
   "source": [
    "cars_data = [\n",
    "    {\"make\": \"Honda Civic\", \"year\": 2012, \"mileage\": 20_000},\n",
    "    {\"make\": \"Toyota Prius\", \"year\": 2020, \"mileage\": 10_000},\n",
    "    {\"make\": \"Tesla Model 3\", \"year\": 2019, \"mileage\": 5_000}\n",
    "]"
   ]
  },
  {
   "cell_type": "code",
   "execution_count": 9,
   "id": "102a55fd-0ad8-4dd0-a26d-7d52a1672b63",
   "metadata": {},
   "outputs": [],
   "source": [
    "async with engine.begin() as conn:\n",
    "    await conn.execute(table.insert(), cars_data)"
   ]
  },
  {
   "cell_type": "code",
   "execution_count": 10,
   "id": "e3274bd4-e2ab-428f-9272-a0c936d61e48",
   "metadata": {},
   "outputs": [],
   "source": [
    "import pandas as pd"
   ]
  },
  {
   "cell_type": "code",
   "execution_count": 13,
   "id": "e756fc81-d78f-4b4c-a75a-a8978216db6d",
   "metadata": {},
   "outputs": [],
   "source": [
    "async with engine.connect() as conn:\n",
    "    sql = sa.select(table).where(table.c.mileage > 6000)\n",
    "    r = await conn.execute(sql)\n",
    "\n",
    "# This is a blocking operation\n",
    "df = pd.DataFrame(r)"
   ]
  },
  {
   "cell_type": "code",
   "execution_count": 14,
   "id": "c25b1ecd-a206-4c71-b2d7-177541da1199",
   "metadata": {},
   "outputs": [
    {
     "data": {
      "text/html": [
       "<div>\n",
       "<style scoped>\n",
       "    .dataframe tbody tr th:only-of-type {\n",
       "        vertical-align: middle;\n",
       "    }\n",
       "\n",
       "    .dataframe tbody tr th {\n",
       "        vertical-align: top;\n",
       "    }\n",
       "\n",
       "    .dataframe thead th {\n",
       "        text-align: right;\n",
       "    }\n",
       "</style>\n",
       "<table border=\"1\" class=\"dataframe\">\n",
       "  <thead>\n",
       "    <tr style=\"text-align: right;\">\n",
       "      <th></th>\n",
       "      <th>car_id</th>\n",
       "      <th>make</th>\n",
       "      <th>year</th>\n",
       "      <th>mileage</th>\n",
       "    </tr>\n",
       "  </thead>\n",
       "  <tbody>\n",
       "    <tr>\n",
       "      <th>0</th>\n",
       "      <td>1</td>\n",
       "      <td>Honda Civic</td>\n",
       "      <td>2012</td>\n",
       "      <td>20000</td>\n",
       "    </tr>\n",
       "    <tr>\n",
       "      <th>1</th>\n",
       "      <td>2</td>\n",
       "      <td>Toyota Prius</td>\n",
       "      <td>2020</td>\n",
       "      <td>10000</td>\n",
       "    </tr>\n",
       "  </tbody>\n",
       "</table>\n",
       "</div>"
      ],
      "text/plain": [
       "   car_id          make  year  mileage\n",
       "0       1   Honda Civic  2012    20000\n",
       "1       2  Toyota Prius  2020    10000"
      ]
     },
     "execution_count": 14,
     "metadata": {},
     "output_type": "execute_result"
    }
   ],
   "source": [
    "df"
   ]
  },
  {
   "cell_type": "markdown",
   "id": "e64ead5e-48b4-478d-b1ec-13ba1b4224b9",
   "metadata": {},
   "source": [
    "## Async SQLAlchemy "
   ]
  }
 ],
 "metadata": {
  "kernelspec": {
   "display_name": "Python 3 (ipykernel)",
   "language": "python",
   "name": "python3"
  },
  "language_info": {
   "codemirror_mode": {
    "name": "ipython",
    "version": 3
   },
   "file_extension": ".py",
   "mimetype": "text/x-python",
   "name": "python",
   "nbconvert_exporter": "python",
   "pygments_lexer": "ipython3",
   "version": "3.9.7"
  }
 },
 "nbformat": 4,
 "nbformat_minor": 5
}
