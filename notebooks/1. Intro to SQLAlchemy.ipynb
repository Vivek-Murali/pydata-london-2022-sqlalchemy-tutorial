{
 "cells": [
  {
   "cell_type": "markdown",
   "id": "d575f600-afed-4b00-bdc3-ecb5f61a36ca",
   "metadata": {
    "slideshow": {
     "slide_type": "slide"
    },
    "tags": [],
    "pycharm": {
     "name": "#%% md\n"
    }
   },
   "source": [
    "# Writing SQL the Python way with SQLAlchemy\n",
    "\n",
    "![SQLAlchemy Logo](images/sqlalchemy-logo.png)"
   ]
  },
  {
   "cell_type": "markdown",
   "id": "9c561ae2-7109-4cf7-8885-ad685b6b67a6",
   "metadata": {
    "slideshow": {
     "slide_type": "subslide"
    },
    "tags": [],
    "pycharm": {
     "name": "#%% md\n"
    }
   },
   "source": [
    "SQLAlchemy is the default toolkit for writing SQL in Python - it supports a powerful Core-level layer, mapping Core SQL constructs into Python code. This Core-level in turn supports a higher-level ORM (Object Relational Mapper), which abstracts away the SQL, turning SQL rows into Python objects. \n",
    "\n",
    "The power in SQLAlchemy is in it's philosophy of not trying to hide away the database from the programmer, inevitably resulting in a leaky abstraction, but to allow the programmer to switch between Core and ORM at will, getting the best of both worlds.\n",
    "\n",
    "\n",
    "![SQLAlchemy layers](images/sqlalchemy_layers.jpg)"
   ]
  },
  {
   "cell_type": "markdown",
   "id": "67f64032-ea9b-48a2-817f-5820b4c68d88",
   "metadata": {
    "slideshow": {
     "slide_type": "subslide"
    },
    "tags": [],
    "pycharm": {
     "name": "#%% md\n"
    }
   },
   "source": [
    "In this course, we will start by writing Core statements, followed by a look at ORM. We'll cover the components of each layer along the way"
   ]
  },
  {
   "cell_type": "markdown",
   "id": "4d99790b-ba0f-4de3-bd41-fbd1c5e64beb",
   "metadata": {
    "slideshow": {
     "slide_type": "slide"
    },
    "tags": [],
    "pycharm": {
     "name": "#%% md\n"
    }
   },
   "source": [
    "# What's the DBAPI? - A bit of history\n",
    "\n",
    "[PEP-249](https://peps.python.org/pep-0249/) was introduced in 2001 to standardize the API of the various database provider libraries. This meant that all the database libraries now used the same commands to connect, execute and return rows from the database, at a low level. "
   ]
  },
  {
   "cell_type": "code",
   "execution_count": 35,
   "id": "0b64c660-7581-4c78-b5ff-530e16e6307b",
   "metadata": {
    "pycharm": {
     "name": "#%%\n"
    }
   },
   "outputs": [
    {
     "data": {
      "text/plain": [
       "[(1, 'text'), (1, 'text')]"
      ]
     },
     "execution_count": 35,
     "metadata": {},
     "output_type": "execute_result"
    }
   ],
   "source": [
    "# SQlite is built-into Python\n",
    "import sqlite3\n",
    "\n",
    "# SQLite is a single-file database, let's store it in a `local.db` file\n",
    "with sqlite3.connect(\"./local.db\") as conn:\n",
    "    conn.execute(\"\"\"CREATE TABLE IF NOT EXISTS test (\n",
    "                 col1 integer, \n",
    "                 col2 string\n",
    "                )\n",
    "                \"\"\")\n",
    "    # We can parametrize the query to avoid SQL injection attacks\n",
    "    conn.execute(\"\"\"INSERT INTO test VALUES (:val_1, :val_2)\"\"\", {\"val_1\": 1, \"val_2\": \"text\"})\n",
    "    result = conn.execute(\"SELECT * FROM test\").fetchall()\n",
    "result"
   ]
  },
  {
   "cell_type": "code",
   "execution_count": 38,
   "id": "790a9f4a-db2f-4d22-a26e-edd970e7a2b7",
   "metadata": {
    "pycharm": {
     "name": "#%%\n"
    }
   },
   "outputs": [
    {
     "data": {
      "text/plain": [
       "tuple"
      ]
     },
     "execution_count": 38,
     "metadata": {},
     "output_type": "execute_result"
    }
   ],
   "source": [
    "type(result[0])"
   ]
  },
  {
   "cell_type": "markdown",
   "id": "3a76184f-803d-4f3d-a5e9-5b0dca14fcb6",
   "metadata": {
    "pycharm": {
     "name": "#%% md\n"
    }
   },
   "source": [
    "This code would look very similar in `cx_oracle` or `pyodbc`, thanks to the standardization introduced by the DB-API spec. \n",
    "\n",
    "There are a few issues with this code:\n",
    "- The queries are raw strings\n",
    "- Hardcoded to a specific database\n",
    "- Not using any of the Power of Python™"
   ]
  },
  {
   "cell_type": "markdown",
   "id": "c1c46f9b-ba4d-4ca6-8b4e-b7fed28d12a8",
   "metadata": {
    "pycharm": {
     "name": "#%% md\n"
    }
   },
   "source": [
    "# Moving to SQLAlchemy\n",
    "\n",
    "SQLAlchemy was created to address these issues and \"upgrade\" the experience of working with SQL from inside Python. \n",
    "\n",
    "First, let's review the Core SQLAlchemy objects we need in order to get started"
   ]
  },
  {
   "cell_type": "code",
   "execution_count": 1,
   "id": "d9f499c0-91a5-4199-82fe-36abfda91ad2",
   "metadata": {
    "pycharm": {
     "name": "#%%\n"
    }
   },
   "outputs": [],
   "source": [
    "import sqlalchemy as sa"
   ]
  },
  {
   "cell_type": "markdown",
   "id": "1775f8b7-355d-4279-8d61-135028fd5718",
   "metadata": {
    "pycharm": {
     "name": "#%% md\n"
    }
   },
   "source": [
    "# The MetaData\n",
    "\n",
    "MetaData is SQLAlchemy's register over all the defined tables - it allows SQLAlchemy to understand how Tables are connected, handle foreign keys and when issuing DDL (CREATE, DROP, ALTER etc).\n",
    "\n",
    "The metadata object should be a global object, and all Tables should use the same metadata object"
   ]
  },
  {
   "cell_type": "code",
   "execution_count": 2,
   "id": "8cc1db5c-7b17-4669-a5d3-4ac5a291821d",
   "metadata": {
    "pycharm": {
     "name": "#%%\n"
    }
   },
   "outputs": [],
   "source": [
    "meta = sa.MetaData()"
   ]
  },
  {
   "cell_type": "markdown",
   "id": "cef6d991-9057-48a1-90c3-c58339a8c345",
   "metadata": {
    "pycharm": {
     "name": "#%% md\n"
    }
   },
   "source": [
    "# The Table\n",
    "\n",
    "To interact with a database, we need to represent the Table in Python code. \n",
    "\n",
    "This is what SQLAlchemy will use to generate correct SQL when selecting data"
   ]
  },
  {
   "cell_type": "code",
   "execution_count": 3,
   "id": "24407be4-5cf1-4f51-b764-9b261df063b0",
   "metadata": {
    "pycharm": {
     "name": "#%%\n"
    }
   },
   "outputs": [],
   "source": [
    "test_table = sa.Table(\"test\", \n",
    "                      meta, \n",
    "                      sa.Column(\"col1\", sa.Integer), \n",
    "                      sa.Column(\"col2\", sa.String))"
   ]
  },
  {
   "cell_type": "markdown",
   "id": "2becc368-d029-4d6f-86fe-6843a685fcb7",
   "metadata": {
    "pycharm": {
     "name": "#%% md\n"
    }
   },
   "source": [
    "The table doesn't know about the database, we're just declaring a Python object that SQLAlchemy can use later"
   ]
  },
  {
   "cell_type": "markdown",
   "id": "1233a090-4939-4ed1-8956-7fd798add3c1",
   "metadata": {
    "pycharm": {
     "name": "#%% md\n"
    }
   },
   "source": [
    "# The Engine\n",
    "\n",
    "The Engine is what talks to the underlying DB-API library. To create an Engine, we need a properly formatted connection string, so the Engine knows what DB-API it needs to talk to.\n",
    "\n",
    "Creating an engine doesn't connect to the database, so it's merely doing some URL validation and preparing the correct dialect. This is also where we can set various connection options"
   ]
  },
  {
   "cell_type": "code",
   "execution_count": 41,
   "id": "e15c5d2e-ef43-4b09-887c-ec37c9a3b429",
   "metadata": {
    "pycharm": {
     "name": "#%%\n"
    }
   },
   "outputs": [],
   "source": [
    "import sqlalchemy as sa\n",
    "\n",
    "# SQLAlchemy 2.0 is still in beta, but we can opt-in to the future behaviour\n",
    "engine = sa.create_engine(\"sqlite:///local.db\", future=True)"
   ]
  },
  {
   "cell_type": "markdown",
   "id": "d43c6125-0b4a-42cf-9b92-c91371e888ea",
   "metadata": {
    "pycharm": {
     "name": "#%% md\n"
    }
   },
   "source": [
    "# The SQL\n",
    "\n",
    "Now we're ready to write some SQL - SQLAlchemy style."
   ]
  },
  {
   "cell_type": "code",
   "execution_count": 10,
   "id": "032dcd21-f62c-44b4-817e-58c88f2e23e6",
   "metadata": {
    "pycharm": {
     "name": "#%%\n"
    }
   },
   "outputs": [
    {
     "data": {
      "text/plain": [
       "<sqlalchemy.sql.selectable.Select object at 0x0000020416DA4D60>"
      ]
     },
     "execution_count": 10,
     "metadata": {},
     "output_type": "execute_result"
    }
   ],
   "source": [
    "sql = sa.select(test_table)\n",
    "sql"
   ]
  },
  {
   "cell_type": "markdown",
   "id": "e6200ed6-9ef8-4b83-8e9f-a5c7ac799f8c",
   "metadata": {
    "pycharm": {
     "name": "#%% md\n"
    }
   },
   "source": [
    "We can print the SQL that will be emitted"
   ]
  },
  {
   "cell_type": "code",
   "execution_count": 43,
   "id": "d4396cc9-553f-4360-b432-eb1f76b2ba21",
   "metadata": {
    "pycharm": {
     "name": "#%%\n"
    }
   },
   "outputs": [
    {
     "name": "stdout",
     "output_type": "stream",
     "text": [
      "SELECT test.col1, test.col2 \n",
      "FROM test\n"
     ]
    }
   ],
   "source": [
    "print(sql)"
   ]
  },
  {
   "cell_type": "markdown",
   "id": "51eba92d-20df-4076-85af-8a20ddde72c3",
   "metadata": {
    "pycharm": {
     "name": "#%% md\n"
    }
   },
   "source": [
    "SQLAlchemy overloads operators to generate SQL statements, for example the `==` operator"
   ]
  },
  {
   "cell_type": "code",
   "execution_count": 4,
   "id": "a756419b-4ec2-4882-befd-a48341a326fc",
   "metadata": {
    "pycharm": {
     "name": "#%%\n"
    }
   },
   "outputs": [
    {
     "data": {
      "text/plain": [
       "<sqlalchemy.sql.elements.BinaryExpression object at 0x0000020414E382E0>"
      ]
     },
     "execution_count": 4,
     "metadata": {},
     "output_type": "execute_result"
    }
   ],
   "source": [
    "test_table.c.col1 == \"test\""
   ]
  },
  {
   "cell_type": "code",
   "execution_count": 7,
   "id": "d41192b2-1d77-44f9-b20d-5d3206603e34",
   "metadata": {
    "pycharm": {
     "name": "#%%\n"
    }
   },
   "outputs": [
    {
     "name": "stdout",
     "output_type": "stream",
     "text": [
      "test.col1 = :col1_1\n"
     ]
    }
   ],
   "source": [
    "print(test_table.c.col1 == \"test\")"
   ]
  },
  {
   "cell_type": "markdown",
   "id": "e9c3cc90-8b67-4e40-a66b-4e10ebaaa475",
   "metadata": {
    "pycharm": {
     "name": "#%% md\n"
    }
   },
   "source": [
    "That makes it simple to add a `where`clause"
   ]
  },
  {
   "cell_type": "code",
   "execution_count": 12,
   "id": "95ca9711-92fa-49a1-9401-d02f7c86e11c",
   "metadata": {
    "pycharm": {
     "name": "#%%\n"
    }
   },
   "outputs": [
    {
     "name": "stdout",
     "output_type": "stream",
     "text": [
      "SELECT test.col1, test.col2 \n",
      "FROM test \n",
      "WHERE test.col1 = :col1_1\n"
     ]
    }
   ],
   "source": [
    "print(sql.where(test_table.c.col1 == \"test\"))"
   ]
  },
  {
   "cell_type": "markdown",
   "id": "513cbdec-2c00-44c9-a542-749d76b95a29",
   "metadata": {
    "pycharm": {
     "name": "#%% md\n"
    }
   },
   "source": [
    "To run the SQL, we need to establish a connection - this is the first time we're actually doing anything outside our Python process"
   ]
  },
  {
   "cell_type": "code",
   "execution_count": 47,
   "id": "eb36cacf-bdc5-4737-832b-8772e465ab5c",
   "metadata": {
    "pycharm": {
     "name": "#%%\n"
    }
   },
   "outputs": [],
   "source": [
    "with engine.connect() as conn:\n",
    "    result = conn.execute(sql).all()"
   ]
  },
  {
   "cell_type": "code",
   "execution_count": 49,
   "id": "fdec0594-9461-425a-bfa4-6e5b0578bf2c",
   "metadata": {
    "pycharm": {
     "name": "#%%\n"
    }
   },
   "outputs": [
    {
     "data": {
      "text/plain": [
       "sqlalchemy.engine.row.Row"
      ]
     },
     "execution_count": 49,
     "metadata": {},
     "output_type": "execute_result"
    }
   ],
   "source": [
    "type(result[0])"
   ]
  },
  {
   "cell_type": "code",
   "execution_count": 50,
   "id": "49e02772-17f2-4d38-a07a-8f17100e838a",
   "metadata": {
    "pycharm": {
     "name": "#%%\n"
    }
   },
   "outputs": [
    {
     "data": {
      "text/plain": [
       "1"
      ]
     },
     "execution_count": 50,
     "metadata": {},
     "output_type": "execute_result"
    }
   ],
   "source": [
    "result[0].col1"
   ]
  },
  {
   "cell_type": "code",
   "execution_count": 52,
   "id": "ec5bd624-8528-4bf8-8149-9798a6cb46b0",
   "metadata": {
    "pycharm": {
     "name": "#%%\n"
    }
   },
   "outputs": [
    {
     "data": {
      "text/plain": [
       "{'col1': 1, 'col2': 'text'}"
      ]
     },
     "execution_count": 52,
     "metadata": {},
     "output_type": "execute_result"
    }
   ],
   "source": [
    "dict(result[0])"
   ]
  },
  {
   "cell_type": "markdown",
   "id": "7ece6e0c-07e8-452d-91c7-938ad57e958c",
   "metadata": {
    "pycharm": {
     "name": "#%% md\n"
    }
   },
   "source": [
    "Note that we used `all` - the result of `execute` won't produce anything until we ask it to. \n",
    "\n",
    "- `all` returns all the results in a list\n",
    "- `one` return a single result and raises if there's not exactly one\n",
    "- `one_or_none` returns a single result or None and raises if there's > 1\n",
    "- `first` grabs the first result and throws out the rest\n",
    "- `partitions(size)` yields chunks of length `size`\n",
    "- `yield_per(num)` generally only used if the DBAPI driver supports streaming results - batches up results from the stream"
   ]
  },
  {
   "cell_type": "markdown",
   "id": "2c2a2d51-fa80-47c4-9149-43e5de67becf",
   "metadata": {
    "tags": [],
    "pycharm": {
     "name": "#%% md\n"
    }
   },
   "source": [
    "# Some Behind-the-scenes\n",
    "\n",
    "SQLAlchemy did a few different things for us here out of the box. \n",
    "\n",
    "- It generated the correct SQL for our Database (SQLite in this case). \n",
    "- It wrapped the result of the query in a `Row` object, allowing us to write `.col1` or convert to a dictionary out-of-the-box. \n",
    "- It will convert the DB results to the types declared in the table\n",
    "- Behind the scenes, SQLAlchemy also creates a pool of connections, depending on the backend. Every time you run a query, you'll check out a connection from the pool instead of creating a new one every time."
   ]
  }
 ],
 "metadata": {
  "kernelspec": {
   "display_name": "Python 3 (ipykernel)",
   "language": "python",
   "name": "python3"
  },
  "language_info": {
   "codemirror_mode": {
    "name": "ipython",
    "version": 3
   },
   "file_extension": ".py",
   "mimetype": "text/x-python",
   "name": "python",
   "nbconvert_exporter": "python",
   "pygments_lexer": "ipython3",
   "version": "3.9.7"
  }
 },
 "nbformat": 4,
 "nbformat_minor": 5
}