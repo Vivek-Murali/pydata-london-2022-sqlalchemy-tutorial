{
 "cells": [
  {
   "cell_type": "markdown",
   "id": "d575f600-afed-4b00-bdc3-ecb5f61a36ca",
   "metadata": {
    "pycharm": {
     "name": "#%% md\n"
    },
    "slideshow": {
     "slide_type": "slide"
    },
    "tags": []
   },
   "source": [
    "# Writing SQL the Python way with SQLAlchemy\n",
    "\n",
    "![SQLAlchemy Logo](images/sqlalchemy-logo.png)"
   ]
  },
  {
   "cell_type": "markdown",
   "id": "9c561ae2-7109-4cf7-8885-ad685b6b67a6",
   "metadata": {
    "pycharm": {
     "name": "#%% md\n"
    },
    "slideshow": {
     "slide_type": "subslide"
    },
    "tags": []
   },
   "source": [
    "SQLAlchemy is the default toolkit for writing SQL in Python - it supports a powerful Core-level layer, mapping Core SQL constructs into Python code. This Core-level in turn supports a higher-level ORM (Object Relational Mapper), which abstracts away the SQL, turning SQL rows into Python objects. \n",
    "\n",
    "The power in SQLAlchemy is in it's philosophy of not trying to hide away the database from the programmer, inevitably resulting in a leaky abstraction, but to allow the programmer to switch between Core and ORM at will, getting the best of both worlds.\n",
    "\n",
    "\n",
    "![SQLAlchemy layers](images/sqlalchemy_layers.jpg)"
   ]
  },
  {
   "cell_type": "markdown",
   "id": "67f64032-ea9b-48a2-817f-5820b4c68d88",
   "metadata": {
    "pycharm": {
     "name": "#%% md\n"
    },
    "slideshow": {
     "slide_type": "subslide"
    },
    "tags": []
   },
   "source": [
    "In this course, we will start by writing Core statements, followed by a look at ORM. We'll cover the components of each layer along the way"
   ]
  },
  {
   "cell_type": "markdown",
   "id": "4d99790b-ba0f-4de3-bd41-fbd1c5e64beb",
   "metadata": {
    "pycharm": {
     "name": "#%% md\n"
    },
    "slideshow": {
     "slide_type": "slide"
    },
    "tags": []
   },
   "source": [
    "# What's the DBAPI? - A bit of history\n",
    "\n",
    "[PEP-249](https://peps.python.org/pep-0249/) was introduced in 2001 to standardize the API of the various database provider libraries. This meant that all the database libraries now used the same commands to connect, execute and return rows from the database, at a low level. "
   ]
  },
  {
   "cell_type": "code",
   "execution_count": 1,
   "id": "31a54815",
   "metadata": {
    "collapsed": false,
    "jupyter": {
     "outputs_hidden": false
    },
    "pycharm": {
     "name": "#%%\n"
    }
   },
   "outputs": [],
   "source": [
    "# SQlite is built-into Python\n",
    "import sqlite3"
   ]
  },
  {
   "cell_type": "markdown",
   "id": "58ac427b",
   "metadata": {
    "pycharm": {
     "name": "#%% md\n"
    }
   },
   "source": [
    "SQLite is a single-file embedded database that's also included in Python - so we can run a database without having to worry about installing anything"
   ]
  },
  {
   "cell_type": "code",
   "execution_count": null,
   "outputs": [],
   "source": [
    "db_file = \"./local.db\""
   ],
   "metadata": {
    "collapsed": false,
    "pycharm": {
     "name": "#%%\n"
    }
   }
  },
  {
   "cell_type": "code",
   "execution_count": null,
   "outputs": [],
   "source": [
    "Before we can store any data, we need to create a table"
   ],
   "metadata": {
    "collapsed": false,
    "pycharm": {
     "name": "#%%\n"
    }
   }
  },
  {
   "cell_type": "code",
   "execution_count": null,
   "outputs": [],
   "source": [
    "# SQLite is a single-file database, let's store it in a `local.db` file\n",
    "with sqlite3.connect(db_file) as conn:\n",
    "    conn.execute(\"\"\"CREATE TABLE IF NOT EXISTS test (\n",
    "                 col1 integer, \n",
    "                 col2 string\n",
    "                )\n",
    "                \"\"\")"
   ],
   "metadata": {
    "collapsed": false,
    "pycharm": {
     "name": "#%%\n"
    }
   }
  },
  {
   "cell_type": "code",
   "execution_count": null,
   "outputs": [],
   "source": [
    "with sqlite3.connect(db_file) as conn:\n",
    "    # We can parametrize the query to avoid SQL injection attacks\n",
    "    conn.execute(\"\"\"INSERT INTO test VALUES (:val_1, :val_2)\"\"\", {\"val_1\": 1, \"val_2\": \"text\"})\n",
    "    result = conn.execute(\"SELECT * FROM test\").fetchall()\n",
    "result"
   ],
   "metadata": {
    "collapsed": false,
    "pycharm": {
     "name": "#%%\n"
    }
   }
  },
  {
   "cell_type": "code",
   "execution_count": null,
   "outputs": [],
   "source": [
    "type(result[0])"
   ],
   "metadata": {
    "collapsed": false,
    "pycharm": {
     "name": "#%%\n"
    }
   }
  },
  {
   "cell_type": "markdown",
   "source": [
    "This code would look very similar in `cx_oracle` or `pyodbc`, thanks to the standardization introduced by the DB-API spec. \n",
    "\n",
    "There are a few issues with this code:\n",
    "- The queries are raw strings\n",
    "- Hardcoded to a specific database\n",
    "- Not using any of the Power of Python™"
   ],
   "metadata": {
    "collapsed": false,
    "pycharm": {
     "name": "#%% md\n"
    }
   }
  },
  {
   "cell_type": "markdown",
   "source": [
    "# Moving to SQLAlchemy\n",
    "\n",
    "SQLAlchemy was created to address these issues and \"upgrade\" the experience of working with SQL from inside Python. \n",
    "\n",
    "First, let's review the Core SQLAlchemy objects we need in order to get started"
   ],
   "metadata": {
    "collapsed": false,
    "pycharm": {
     "name": "#%% md\n"
    }
   }
  },
  {
   "cell_type": "code",
   "execution_count": null,
   "outputs": [],
   "source": [
    "import sqlalchemy as sa"
   ],
   "metadata": {
    "collapsed": false,
    "pycharm": {
     "name": "#%%\n"
    }
   }
  },
  {
   "cell_type": "markdown",
   "source": [
    "# The MetaData\n",
    "\n",
    "MetaData is SQLAlchemy's register over all the defined tables - it allows SQLAlchemy to understand how Tables are connected, handle foreign keys and when issuing DDL (CREATE, DROP, ALTER etc).\n",
    "\n",
    "The metadata object should be a global object, and all Tables should use the same metadata object"
   ],
   "metadata": {
    "collapsed": false,
    "pycharm": {
     "name": "#%% md\n"
    }
   }
  },
  {
   "cell_type": "code",
   "execution_count": null,
   "outputs": [],
   "source": [
    "meta = sa.MetaData()"
   ],
   "metadata": {
    "collapsed": false,
    "pycharm": {
     "name": "#%%\n"
    }
   }
  },
  {
   "cell_type": "markdown",
   "source": [
    "# The Table\n",
    "\n",
    "To interact with a database, we need to represent the Table in Python code. \n",
    "\n",
    "This is what SQLAlchemy will use to generate correct SQL when selecting data"
   ],
   "metadata": {
    "collapsed": false,
    "pycharm": {
     "name": "#%% md\n"
    }
   }
  },
  {
   "cell_type": "code",
   "execution_count": null,
   "outputs": [],
   "source": [
    "test_table = sa.Table(\"test\", \n",
    "                      meta, \n",
    "                      sa.Column(\"col1\", sa.Integer), \n",
    "                      sa.Column(\"col2\", sa.String))"
   ],
   "metadata": {
    "collapsed": false,
    "pycharm": {
     "name": "#%%\n"
    }
   }
  },
  {
   "cell_type": "markdown",
   "source": [
    "The table doesn't know about the database, we're just declaring a Python object that SQLAlchemy can use later"
   ],
   "metadata": {
    "collapsed": false,
    "pycharm": {
     "name": "#%% md\n"
    }
   }
  },
  {
   "cell_type": "markdown",
   "source": [
    "# The Engine\n",
    "\n",
    "The Engine is what talks to the underlying DB-API library. To create an Engine, we need a properly formatted connection string, so the Engine knows what DB-API it needs to talk to.\n",
    "\n",
    "Creating an engine doesn't connect to the database, so it's merely doing some URL validation and preparing the correct dialect. This is also where we can set various connection options"
   ],
   "metadata": {
    "collapsed": false,
    "pycharm": {
     "name": "#%% md\n"
    }
   }
  },
  {
   "cell_type": "code",
   "execution_count": null,
   "outputs": [],
   "source": [
    "import sqlalchemy as sa\n",
    "\n",
    "# SQLAlchemy 2.0 is still in beta, but we can opt-in to the future behaviour\n",
    "engine = sa.create_engine(\"sqlite:///local.db\", future=True)"
   ],
   "metadata": {
    "collapsed": false,
    "pycharm": {
     "name": "#%%\n"
    }
   }
  },
  {
   "cell_type": "markdown",
   "source": [
    "# The SQL\n",
    "\n",
    "Now we're ready to write some SQL - SQLAlchemy style."
   ],
   "metadata": {
    "collapsed": false,
    "pycharm": {
     "name": "#%% md\n"
    }
   }
  },
  {
   "cell_type": "code",
   "execution_count": null,
   "outputs": [],
   "source": [
    "sql = sa.select(test_table)\n",
    "sql"
   ],
   "metadata": {
    "collapsed": false,
    "pycharm": {
     "name": "#%%\n"
    }
   }
  },
  {
   "cell_type": "markdown",
   "source": [
    "We can print the SQL that will be emitted"
   ],
   "metadata": {
    "collapsed": false,
    "pycharm": {
     "name": "#%% md\n"
    }
   }
  },
  {
   "cell_type": "code",
   "execution_count": null,
   "outputs": [],
   "source": [
    "print(sql)"
   ],
   "metadata": {
    "collapsed": false,
    "pycharm": {
     "name": "#%%\n"
    }
   }
  },
  {
   "cell_type": "markdown",
   "source": [
    "SQLAlchemy overloads operators to generate SQL statements, for example the `==` operator"
   ],
   "metadata": {
    "collapsed": false,
    "pycharm": {
     "name": "#%% md\n"
    }
   }
  },
  {
   "cell_type": "code",
   "execution_count": null,
   "outputs": [],
   "source": [
    "test_table.c.col1 == \"test\""
   ],
   "metadata": {
    "collapsed": false,
    "pycharm": {
     "name": "#%%\n"
    }
   }
  },
  {
   "cell_type": "code",
   "execution_count": null,
   "outputs": [],
   "source": [
    "print(test_table.c.col1 == \"test\")"
   ],
   "metadata": {
    "collapsed": false,
    "pycharm": {
     "name": "#%%\n"
    }
   }
  },
  {
   "cell_type": "markdown",
   "source": [
    "That makes it simple to add a `where`clause"
   ],
   "metadata": {
    "collapsed": false,
    "pycharm": {
     "name": "#%% md\n"
    }
   }
  },
  {
   "cell_type": "code",
   "execution_count": null,
   "outputs": [],
   "source": [
    "print(sql.where(test_table.c.col1 == \"test\"))"
   ],
   "metadata": {
    "collapsed": false,
    "pycharm": {
     "name": "#%%\n"
    }
   }
  },
  {
   "cell_type": "markdown",
   "source": [
    "To run the SQL, we need to establish a connection - this is the first time we're actually doing anything outside our Python process"
   ],
   "metadata": {
    "collapsed": false,
    "pycharm": {
     "name": "#%% md\n"
    }
   }
  },
  {
   "cell_type": "code",
   "execution_count": null,
   "outputs": [],
   "source": [
    "with engine.connect() as conn:\n",
    "    result = conn.execute(sql).all()"
   ],
   "metadata": {
    "collapsed": false,
    "pycharm": {
     "name": "#%%\n"
    }
   }
  },
  {
   "cell_type": "markdown",
   "source": [
    "`result` looks the same"
   ],
   "metadata": {
    "collapsed": false,
    "pycharm": {
     "name": "#%% md\n"
    }
   }
  },
  {
   "cell_type": "code",
   "execution_count": null,
   "outputs": [],
   "source": [
    "result"
   ],
   "metadata": {
    "collapsed": false,
    "pycharm": {
     "name": "#%%\n"
    }
   }
  },
  {
   "cell_type": "markdown",
   "source": [
    "But it's actually an \"upgraded\" version of what we had before"
   ],
   "metadata": {
    "collapsed": false,
    "pycharm": {
     "name": "#%% md\n"
    }
   }
  },
  {
   "cell_type": "code",
   "execution_count": null,
   "outputs": [],
   "source": [
    "type(result[0])"
   ],
   "metadata": {
    "collapsed": false,
    "pycharm": {
     "name": "#%%\n"
    }
   }
  },
  {
   "cell_type": "code",
   "execution_count": null,
   "outputs": [],
   "source": [
    "result[0].col1"
   ],
   "metadata": {
    "collapsed": false,
    "pycharm": {
     "name": "#%%\n"
    }
   }
  },
  {
   "cell_type": "code",
   "execution_count": null,
   "outputs": [],
   "source": [
    "dict(result[0])"
   ],
   "metadata": {
    "collapsed": false,
    "pycharm": {
     "name": "#%%\n"
    }
   }
  },
  {
   "cell_type": "markdown",
   "source": [
    "Note that here we used `.all` to fetch all the results at once - the result of `.execute` won't produce anything until we ask it to. \n",
    "\n",
    "- `all` returns all the results in a list\n",
    "- `one` return a single result and raises an exception if there's not exactly one\n",
    "- `one_or_none` returns a single result or None and raises an exception if there's > 1 results\n",
    "- `first` grabs the first result\n",
    "- `partitions(size)` yields chunks of length `size`\n",
    "- `yield_per(num)` generally only used if the DBAPI driver supports streaming results - batches up results from the stream"
   ],
   "metadata": {
    "collapsed": false,
    "pycharm": {
     "name": "#%% md\n"
    }
   }
  },
  {
   "cell_type": "code",
   "execution_count": 20,
   "id": "fdec0594-9461-425a-bfa4-6e5b0578bf2c",
   "metadata": {
    "pycharm": {
     "name": "#%%\n"
    }
   },
   "outputs": [
    {
     "data": {
      "text/plain": [
       "sqlalchemy.engine.row.Row"
      ]
     },
     "execution_count": 20,
     "metadata": {},
     "output_type": "execute_result"
    }
   ],
   "source": [
    "type(result[0])"
   ]
  },
  {
   "cell_type": "code",
   "execution_count": 21,
   "id": "49e02772-17f2-4d38-a07a-8f17100e838a",
   "metadata": {
    "pycharm": {
     "name": "#%%\n"
    }
   },
   "outputs": [
    {
     "data": {
      "text/plain": [
       "1"
      ]
     },
     "execution_count": 21,
     "metadata": {},
     "output_type": "execute_result"
    }
   ],
   "source": [
    "result[0].col1"
   ]
  },
  {
   "cell_type": "code",
   "execution_count": 18,
   "id": "ec5bd624-8528-4bf8-8149-9798a6cb46b0",
   "metadata": {
    "pycharm": {
     "name": "#%%\n"
    }
   },
   "outputs": [
    {
     "data": {
      "text/plain": [
       "{'col1': 1, 'col2': 'text'}"
      ]
     },
     "execution_count": 18,
     "metadata": {},
     "output_type": "execute_result"
    }
   ],
   "source": [
    "dict(result[0])"
   ]
  },
  {
   "cell_type": "markdown",
   "id": "7ece6e0c-07e8-452d-91c7-938ad57e958c",
   "metadata": {
    "pycharm": {
     "name": "#%% md\n"
    }
   },
   "source": [
    "Note that here we used `.all` to fetch all the results at once - the result of `.execute` won't produce anything until we ask it to. \n",
    "\n",
    "- `all` returns all the results in a list\n",
    "- `one` return a single result and raises an exception if there's not exactly one\n",
    "- `one_or_none` returns a single result or None and raises an exception if there's > 1 results\n",
    "- `first` grabs the first result\n",
    "- `partitions(size)` yields chunks of length `size`\n",
    "- `yield_per(num)` generally only used if the DBAPI driver supports streaming results - batches up results from the stream"
   ]
  },
  {
   "cell_type": "markdown",
   "id": "2c2a2d51-fa80-47c4-9149-43e5de67becf",
   "metadata": {
    "pycharm": {
     "name": "#%% md\n"
    },
    "tags": []
   },
   "source": [
    "# Some Behind-the-scenes\n",
    "\n",
    "SQLAlchemy did a few different things for us here out of the box. \n",
    "\n",
    "- It generated the correct SQL for our Database (SQLite in this case). \n",
    "- It wrapped the result of the query in a `Row` object, allowing us to write `.col1` or convert to a dictionary out-of-the-box. \n",
    "- It will convert the DB results to the types declared in the table\n",
    "- Behind the scenes, SQLAlchemy also creates a pool of connections, depending on the backend. Every time you run a query, you'll check out a connection from the pool instead of creating a new one every time."
   ]
  }
 ],
 "metadata": {
  "kernelspec": {
   "display_name": "Python 3 (ipykernel)",
   "language": "python",
   "name": "python3"
  },
  "language_info": {
   "codemirror_mode": {
    "name": "ipython",
    "version": 3
   },
   "file_extension": ".py",
   "mimetype": "text/x-python",
   "name": "python",
   "nbconvert_exporter": "python",
   "pygments_lexer": "ipython3",
   "version": "3.9.13"
  }
 },
 "nbformat": 4,
 "nbformat_minor": 5
}